{
  "nbformat": 4,
  "nbformat_minor": 0,
  "metadata": {
    "colab": {
      "provenance": []
    },
    "kernelspec": {
      "name": "python3",
      "display_name": "Python 3"
    },
    "language_info": {
      "name": "python"
    }
  },
  "cells": [
    {
      "cell_type": "code",
      "execution_count": null,
      "metadata": {
        "colab": {
          "base_uri": "https://localhost:8080/"
        },
        "id": "cUq0aw40wkpS",
        "outputId": "7d7653d9-591f-4bf8-c50f-d0cb64778eda"
      },
      "outputs": [
        {
          "output_type": "stream",
          "name": "stdout",
          "text": [
            "Enter customer details:\n"
          ]
        }
      ],
      "source": [
        "import pandas as pd\n",
        "from sklearn.preprocessing import StandardScaler\n",
        "from sklearn.linear_model import LogisticRegression\n",
        "\n",
        "# Load the dataset\n",
        "data = pd.read_csv('/content/purchase_history.csv')\n",
        "\n",
        "# Separate features (X) and target variable (y)\n",
        "X = data[['Gender', 'Age', 'Salary', 'Price', 'Product Category']]\n",
        "y = data['Purchased']\n",
        "\n",
        "# Perform one-hot encoding for categorical variables (if needed)\n",
        "X = pd.get_dummies(X, columns=['Gender', 'Product Category'])\n",
        "\n",
        "# Standardize the features\n",
        "scaler = StandardScaler()\n",
        "X_scaled = scaler.fit_transform(X)\n",
        "\n",
        "# Train a logistic regression model\n",
        "model = LogisticRegression()\n",
        "model.fit(X_scaled, y)\n",
        "\n",
        "# Function to input new data and make predictions\n",
        "def predict_customer_purchase(model, scaler):\n",
        "    print(\"Enter customer details:\")\n",
        "    gender = input(\"Gender (Male/Female): \")\n",
        "    age = float(input(\"Age: \"))\n",
        "    salary = float(input(\"Salary: \"))\n",
        "    price = float(input(\"Price of Product: \"))\n",
        "\n",
        "    print(\"Product Categories:\")\n",
        "    print(\"1. Stationery\")\n",
        "    print(\"2. Shoes\")\n",
        "    print(\"3. Computer Accessories\")\n",
        "    print(\"4. Clothing\")\n",
        "    print(\"5. Sports\")\n",
        "    print(\"6. Mobile Accessories\")\n",
        "    product_category = int(input(\"Enter the product category number (1-6): \"))\n",
        "\n",
        "    # Mapping category number to product category name\n",
        "    category_mapping = {\n",
        "        1: 'Stationery',\n",
        "        2: 'Shoes',\n",
        "        3: 'Computer Accessories',\n",
        "        4: 'Clothing',\n",
        "        5: 'Sports',\n",
        "        6: 'Mobile Accessories'\n",
        "    }\n",
        "    product_category_name = category_mapping.get(product_category)\n",
        "\n",
        "    # Create a DataFrame with all possible categories for one-hot encoding\n",
        "    all_categories = {\n",
        "        'Gender': ['Male', 'Female'],\n",
        "        'Product Category': ['Stationery', 'Shoes', 'Computer Accessories', 'Clothing', 'Sports', 'Mobile Accessories']\n",
        "    }\n",
        "    input_data = pd.DataFrame({\n",
        "        'Gender': [gender],\n",
        "        'Age': [age],\n",
        "        'Salary': [salary],\n",
        "        'Price': [price],\n",
        "        'Product Category': [product_category_name]\n",
        "    })\n",
        "\n",
        "    # Perform one-hot encoding with all possible categories\n",
        "    input_data = pd.get_dummies(input_data, columns=['Gender', 'Product Category'])\n",
        "\n",
        "    # Reindex input data to match the features used during training\n",
        "    input_data = input_data.reindex(columns=X.columns, fill_value=0)\n",
        "\n",
        "    # Standardize the input data\n",
        "    input_scaled = scaler.transform(input_data)\n",
        "\n",
        "    # Make prediction\n",
        "    prediction = model.predict(input_scaled)\n",
        "    probability = model.predict_proba(input_scaled)\n",
        "\n",
        "    print(\"\\nPrediction:\")\n",
        "    if prediction[0] == 1:\n",
        "        print(\"Customer is likely to purchase the product.\")\n",
        "    else:\n",
        "        print(\"Customer is not likely to purchase the product.\")\n",
        "\n",
        "    print(\"Probability of purchase:\", probability[0][1])\n",
        "\n",
        "# Make predictions for new data\n",
        "predict_customer_purchase(model, scaler)\n"
      ]
    },
    {
      "cell_type": "code",
      "source": [
        "# Save the trained model using pickle\n",
        "import pickle\n",
        "with open('customer_purchase_prediction_model.pkl', 'wb') as file:\n",
        "    pickle.dump(model, file)\n",
        "    from sklearn.preprocessing import StandardScaler\n"
      ],
      "metadata": {
        "id": "uWCzJPKFyjok"
      },
      "execution_count": null,
      "outputs": []
    },
    {
      "cell_type": "code",
      "source": [
        "\n",
        "with open('scaler.pkl', 'wb') as file:\n",
        "    pickle.dump(scaler, file)"
      ],
      "metadata": {
        "id": "gRxcd0GK0gRR"
      },
      "execution_count": null,
      "outputs": []
    }
  ]
}